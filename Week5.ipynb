{
 "cells": [
  {
   "cell_type": "code",
   "execution_count": null,
   "metadata": {
    "id": "T10VB6jRAdko"
   },
   "outputs": [],
   "source": [
    "import numpy as np"
   ]
  },
  {
   "cell_type": "code",
   "execution_count": null,
   "metadata": {
    "colab": {
     "base_uri": "https://localhost:8080/"
    },
    "id": "lQ9r-TcqCVUx",
    "outputId": "8845aec5-558a-4124-827c-ed415e9758cd"
   },
   "outputs": [
    {
     "data": {
      "text/plain": [
       "array([[ 4,  0],\n",
       "       [ 3, -5]])"
      ]
     },
     "execution_count": 5,
     "metadata": {},
     "output_type": "execute_result"
    }
   ],
   "source": [
    "A = np.array([[4,0],[3,-5]])\n",
    "A"
   ]
  },
  {
   "cell_type": "code",
   "execution_count": null,
   "metadata": {
    "colab": {
     "base_uri": "https://localhost:8080/"
    },
    "id": "27qPiPjUCm4k",
    "outputId": "93221508-b0d1-4345-87b2-0ad043a82d80"
   },
   "outputs": [
    {
     "data": {
      "text/plain": [
       "array([[ 25, -15],\n",
       "       [-15,  25]])"
      ]
     },
     "execution_count": 6,
     "metadata": {},
     "output_type": "execute_result"
    }
   ],
   "source": [
    "A.T @ A"
   ]
  },
  {
   "cell_type": "code",
   "execution_count": null,
   "metadata": {
    "colab": {
     "base_uri": "https://localhost:8080/"
    },
    "id": "eS5DXOSlGfvX",
    "outputId": "15d2f189-8bae-4d15-df20-40c9a4381210"
   },
   "outputs": [
    {
     "data": {
      "text/plain": [
       "array([[6.32455532, 0.        ],\n",
       "       [0.        , 3.16227766]])"
      ]
     },
     "execution_count": 7,
     "metadata": {},
     "output_type": "execute_result"
    }
   ],
   "source": [
    "S = np.array([[40**0.5,0],[0,10**0.5]])\n",
    "\n",
    "S"
   ]
  },
  {
   "cell_type": "code",
   "execution_count": null,
   "metadata": {
    "id": "9JYi0wY6IY1N"
   },
   "outputs": [],
   "source": []
  },
  {
   "cell_type": "code",
   "execution_count": null,
   "metadata": {
    "colab": {
     "base_uri": "https://localhost:8080/"
    },
    "id": "VralN3VEIFNc",
    "outputId": "2206ff26-d7ae-4af0-fc3e-03cea2b2b79b"
   },
   "outputs": [
    {
     "data": {
      "text/plain": [
       "array([[ 0.70710678,  0.70710678],\n",
       "       [-0.70710678,  0.70710678]])"
      ]
     },
     "execution_count": 9,
     "metadata": {},
     "output_type": "execute_result"
    }
   ],
   "source": [
    "V = np.array([[1/2**0.5,1/2**0.5],[-(1/2**0.5),1/2**0.5]])\n",
    "V"
   ]
  },
  {
   "cell_type": "code",
   "execution_count": null,
   "metadata": {
    "colab": {
     "base_uri": "https://localhost:8080/"
    },
    "id": "yw3WBX8NHUfy",
    "outputId": "19b64aea-d9ee-4497-cf15-255601efa246"
   },
   "outputs": [
    {
     "data": {
      "text/plain": [
       "array([[ 0.4472136 ,  0.89442719],\n",
       "       [ 0.89442719, -0.4472136 ]])"
      ]
     },
     "execution_count": 10,
     "metadata": {},
     "output_type": "execute_result"
    }
   ],
   "source": [
    "U =A @ V @ np.linalg.inv(S)\n",
    "U"
   ]
  },
  {
   "cell_type": "markdown",
   "metadata": {
    "id": "EK7Ng_GUGeJU"
   },
   "source": []
  },
  {
   "cell_type": "code",
   "execution_count": null,
   "metadata": {
    "colab": {
     "base_uri": "https://localhost:8080/"
    },
    "id": "wOiQqOtnHfKy",
    "outputId": "0e079d78-a84f-467e-ed06-17d9d5c1823d"
   },
   "outputs": [
    {
     "data": {
      "text/plain": [
       "array([[ 0.70710678, -0.70710678],\n",
       "       [ 0.70710678,  0.70710678]])"
      ]
     },
     "execution_count": 11,
     "metadata": {},
     "output_type": "execute_result"
    }
   ],
   "source": [
    "Vt = V.T\n",
    "Vt"
   ]
  },
  {
   "cell_type": "code",
   "execution_count": null,
   "metadata": {
    "id": "BvYrtJhMJu3j"
   },
   "outputs": [],
   "source": [
    "x = np.dot(np.random.randn(2,2),np.random.randn(2,300)).T"
   ]
  },
  {
   "cell_type": "code",
   "execution_count": null,
   "metadata": {
    "id": "2HUKTlx_Jipg"
   },
   "outputs": [],
   "source": [
    "U, S, Vt = np.linalg.svd(x)"
   ]
  },
  {
   "cell_type": "code",
   "execution_count": null,
   "metadata": {
    "colab": {
     "base_uri": "https://localhost:8080/",
     "height": 403
    },
    "id": "HCnNsh_OKQDm",
    "outputId": "d65399d3-e87f-4571-f8f3-e2e132e62361"
   },
   "outputs": [
    {
     "ename": "TypeError",
     "evalue": "ufunc 'deg2rad' not supported for the input types, and the inputs could not be safely coerced to any supported types according to the casting rule ''safe''",
     "output_type": "error",
     "traceback": [
      "\u001b[0;31m---------------------------------------------------------------------------\u001b[0m",
      "\u001b[0;31mTypeError\u001b[0m                                 Traceback (most recent call last)",
      "\u001b[0;32m/usr/local/lib/python3.10/dist-packages/IPython/core/formatters.py\u001b[0m in \u001b[0;36m__call__\u001b[0;34m(self, obj)\u001b[0m\n\u001b[1;32m    339\u001b[0m                 \u001b[0;32mpass\u001b[0m\u001b[0;34m\u001b[0m\u001b[0;34m\u001b[0m\u001b[0m\n\u001b[1;32m    340\u001b[0m             \u001b[0;32melse\u001b[0m\u001b[0;34m:\u001b[0m\u001b[0;34m\u001b[0m\u001b[0;34m\u001b[0m\u001b[0m\n\u001b[0;32m--> 341\u001b[0;31m                 \u001b[0;32mreturn\u001b[0m \u001b[0mprinter\u001b[0m\u001b[0;34m(\u001b[0m\u001b[0mobj\u001b[0m\u001b[0;34m)\u001b[0m\u001b[0;34m\u001b[0m\u001b[0;34m\u001b[0m\u001b[0m\n\u001b[0m\u001b[1;32m    342\u001b[0m             \u001b[0;31m# Finally look for special method names\u001b[0m\u001b[0;34m\u001b[0m\u001b[0;34m\u001b[0m\u001b[0m\n\u001b[1;32m    343\u001b[0m             \u001b[0mmethod\u001b[0m \u001b[0;34m=\u001b[0m \u001b[0mget_real_method\u001b[0m\u001b[0;34m(\u001b[0m\u001b[0mobj\u001b[0m\u001b[0;34m,\u001b[0m \u001b[0mself\u001b[0m\u001b[0;34m.\u001b[0m\u001b[0mprint_method\u001b[0m\u001b[0;34m)\u001b[0m\u001b[0;34m\u001b[0m\u001b[0;34m\u001b[0m\u001b[0m\n",
      "\u001b[0;32m/usr/local/lib/python3.10/dist-packages/IPython/core/pylabtools.py\u001b[0m in \u001b[0;36mprint_figure\u001b[0;34m(fig, fmt, bbox_inches, base64, **kwargs)\u001b[0m\n\u001b[1;32m    149\u001b[0m         \u001b[0mFigureCanvasBase\u001b[0m\u001b[0;34m(\u001b[0m\u001b[0mfig\u001b[0m\u001b[0;34m)\u001b[0m\u001b[0;34m\u001b[0m\u001b[0;34m\u001b[0m\u001b[0m\n\u001b[1;32m    150\u001b[0m \u001b[0;34m\u001b[0m\u001b[0m\n\u001b[0;32m--> 151\u001b[0;31m     \u001b[0mfig\u001b[0m\u001b[0;34m.\u001b[0m\u001b[0mcanvas\u001b[0m\u001b[0;34m.\u001b[0m\u001b[0mprint_figure\u001b[0m\u001b[0;34m(\u001b[0m\u001b[0mbytes_io\u001b[0m\u001b[0;34m,\u001b[0m \u001b[0;34m**\u001b[0m\u001b[0mkw\u001b[0m\u001b[0;34m)\u001b[0m\u001b[0;34m\u001b[0m\u001b[0;34m\u001b[0m\u001b[0m\n\u001b[0m\u001b[1;32m    152\u001b[0m     \u001b[0mdata\u001b[0m \u001b[0;34m=\u001b[0m \u001b[0mbytes_io\u001b[0m\u001b[0;34m.\u001b[0m\u001b[0mgetvalue\u001b[0m\u001b[0;34m(\u001b[0m\u001b[0;34m)\u001b[0m\u001b[0;34m\u001b[0m\u001b[0;34m\u001b[0m\u001b[0m\n\u001b[1;32m    153\u001b[0m     \u001b[0;32mif\u001b[0m \u001b[0mfmt\u001b[0m \u001b[0;34m==\u001b[0m \u001b[0;34m'svg'\u001b[0m\u001b[0;34m:\u001b[0m\u001b[0;34m\u001b[0m\u001b[0;34m\u001b[0m\u001b[0m\n",
      "\u001b[0;32m/usr/local/lib/python3.10/dist-packages/matplotlib/backend_bases.py\u001b[0m in \u001b[0;36mprint_figure\u001b[0;34m(self, filename, dpi, facecolor, edgecolor, orientation, format, bbox_inches, pad_inches, bbox_extra_artists, backend, **kwargs)\u001b[0m\n\u001b[1;32m   2340\u001b[0m                 )\n\u001b[1;32m   2341\u001b[0m                 \u001b[0;32mwith\u001b[0m \u001b[0mgetattr\u001b[0m\u001b[0;34m(\u001b[0m\u001b[0mrenderer\u001b[0m\u001b[0;34m,\u001b[0m \u001b[0;34m\"_draw_disabled\"\u001b[0m\u001b[0;34m,\u001b[0m \u001b[0mnullcontext\u001b[0m\u001b[0;34m)\u001b[0m\u001b[0;34m(\u001b[0m\u001b[0;34m)\u001b[0m\u001b[0;34m:\u001b[0m\u001b[0;34m\u001b[0m\u001b[0;34m\u001b[0m\u001b[0m\n\u001b[0;32m-> 2342\u001b[0;31m                     \u001b[0mself\u001b[0m\u001b[0;34m.\u001b[0m\u001b[0mfigure\u001b[0m\u001b[0;34m.\u001b[0m\u001b[0mdraw\u001b[0m\u001b[0;34m(\u001b[0m\u001b[0mrenderer\u001b[0m\u001b[0;34m)\u001b[0m\u001b[0;34m\u001b[0m\u001b[0;34m\u001b[0m\u001b[0m\n\u001b[0m\u001b[1;32m   2343\u001b[0m \u001b[0;34m\u001b[0m\u001b[0m\n\u001b[1;32m   2344\u001b[0m             \u001b[0;32mif\u001b[0m \u001b[0mbbox_inches\u001b[0m\u001b[0;34m:\u001b[0m\u001b[0;34m\u001b[0m\u001b[0;34m\u001b[0m\u001b[0m\n",
      "\u001b[0;32m/usr/local/lib/python3.10/dist-packages/matplotlib/artist.py\u001b[0m in \u001b[0;36mdraw_wrapper\u001b[0;34m(artist, renderer, *args, **kwargs)\u001b[0m\n\u001b[1;32m     93\u001b[0m     \u001b[0;34m@\u001b[0m\u001b[0mwraps\u001b[0m\u001b[0;34m(\u001b[0m\u001b[0mdraw\u001b[0m\u001b[0;34m)\u001b[0m\u001b[0;34m\u001b[0m\u001b[0;34m\u001b[0m\u001b[0m\n\u001b[1;32m     94\u001b[0m     \u001b[0;32mdef\u001b[0m \u001b[0mdraw_wrapper\u001b[0m\u001b[0;34m(\u001b[0m\u001b[0martist\u001b[0m\u001b[0;34m,\u001b[0m \u001b[0mrenderer\u001b[0m\u001b[0;34m,\u001b[0m \u001b[0;34m*\u001b[0m\u001b[0margs\u001b[0m\u001b[0;34m,\u001b[0m \u001b[0;34m**\u001b[0m\u001b[0mkwargs\u001b[0m\u001b[0;34m)\u001b[0m\u001b[0;34m:\u001b[0m\u001b[0;34m\u001b[0m\u001b[0;34m\u001b[0m\u001b[0m\n\u001b[0;32m---> 95\u001b[0;31m         \u001b[0mresult\u001b[0m \u001b[0;34m=\u001b[0m \u001b[0mdraw\u001b[0m\u001b[0;34m(\u001b[0m\u001b[0martist\u001b[0m\u001b[0;34m,\u001b[0m \u001b[0mrenderer\u001b[0m\u001b[0;34m,\u001b[0m \u001b[0;34m*\u001b[0m\u001b[0margs\u001b[0m\u001b[0;34m,\u001b[0m \u001b[0;34m**\u001b[0m\u001b[0mkwargs\u001b[0m\u001b[0;34m)\u001b[0m\u001b[0;34m\u001b[0m\u001b[0;34m\u001b[0m\u001b[0m\n\u001b[0m\u001b[1;32m     96\u001b[0m         \u001b[0;32mif\u001b[0m \u001b[0mrenderer\u001b[0m\u001b[0;34m.\u001b[0m\u001b[0m_rasterizing\u001b[0m\u001b[0;34m:\u001b[0m\u001b[0;34m\u001b[0m\u001b[0;34m\u001b[0m\u001b[0m\n\u001b[1;32m     97\u001b[0m             \u001b[0mrenderer\u001b[0m\u001b[0;34m.\u001b[0m\u001b[0mstop_rasterizing\u001b[0m\u001b[0;34m(\u001b[0m\u001b[0;34m)\u001b[0m\u001b[0;34m\u001b[0m\u001b[0;34m\u001b[0m\u001b[0m\n",
      "\u001b[0;32m/usr/local/lib/python3.10/dist-packages/matplotlib/artist.py\u001b[0m in \u001b[0;36mdraw_wrapper\u001b[0;34m(artist, renderer)\u001b[0m\n\u001b[1;32m     70\u001b[0m                 \u001b[0mrenderer\u001b[0m\u001b[0;34m.\u001b[0m\u001b[0mstart_filter\u001b[0m\u001b[0;34m(\u001b[0m\u001b[0;34m)\u001b[0m\u001b[0;34m\u001b[0m\u001b[0;34m\u001b[0m\u001b[0m\n\u001b[1;32m     71\u001b[0m \u001b[0;34m\u001b[0m\u001b[0m\n\u001b[0;32m---> 72\u001b[0;31m             \u001b[0;32mreturn\u001b[0m \u001b[0mdraw\u001b[0m\u001b[0;34m(\u001b[0m\u001b[0martist\u001b[0m\u001b[0;34m,\u001b[0m \u001b[0mrenderer\u001b[0m\u001b[0;34m)\u001b[0m\u001b[0;34m\u001b[0m\u001b[0;34m\u001b[0m\u001b[0m\n\u001b[0m\u001b[1;32m     73\u001b[0m         \u001b[0;32mfinally\u001b[0m\u001b[0;34m:\u001b[0m\u001b[0;34m\u001b[0m\u001b[0;34m\u001b[0m\u001b[0m\n\u001b[1;32m     74\u001b[0m             \u001b[0;32mif\u001b[0m \u001b[0martist\u001b[0m\u001b[0;34m.\u001b[0m\u001b[0mget_agg_filter\u001b[0m\u001b[0;34m(\u001b[0m\u001b[0;34m)\u001b[0m \u001b[0;32mis\u001b[0m \u001b[0;32mnot\u001b[0m \u001b[0;32mNone\u001b[0m\u001b[0;34m:\u001b[0m\u001b[0;34m\u001b[0m\u001b[0;34m\u001b[0m\u001b[0m\n",
      "\u001b[0;32m/usr/local/lib/python3.10/dist-packages/matplotlib/figure.py\u001b[0m in \u001b[0;36mdraw\u001b[0;34m(self, renderer)\u001b[0m\n\u001b[1;32m   3138\u001b[0m \u001b[0;34m\u001b[0m\u001b[0m\n\u001b[1;32m   3139\u001b[0m             \u001b[0mself\u001b[0m\u001b[0;34m.\u001b[0m\u001b[0mpatch\u001b[0m\u001b[0;34m.\u001b[0m\u001b[0mdraw\u001b[0m\u001b[0;34m(\u001b[0m\u001b[0mrenderer\u001b[0m\u001b[0;34m)\u001b[0m\u001b[0;34m\u001b[0m\u001b[0;34m\u001b[0m\u001b[0m\n\u001b[0;32m-> 3140\u001b[0;31m             mimage._draw_list_compositing_images(\n\u001b[0m\u001b[1;32m   3141\u001b[0m                 renderer, self, artists, self.suppressComposite)\n\u001b[1;32m   3142\u001b[0m \u001b[0;34m\u001b[0m\u001b[0m\n",
      "\u001b[0;32m/usr/local/lib/python3.10/dist-packages/matplotlib/image.py\u001b[0m in \u001b[0;36m_draw_list_compositing_images\u001b[0;34m(renderer, parent, artists, suppress_composite)\u001b[0m\n\u001b[1;32m    129\u001b[0m     \u001b[0;32mif\u001b[0m \u001b[0mnot_composite\u001b[0m \u001b[0;32mor\u001b[0m \u001b[0;32mnot\u001b[0m \u001b[0mhas_images\u001b[0m\u001b[0;34m:\u001b[0m\u001b[0;34m\u001b[0m\u001b[0;34m\u001b[0m\u001b[0m\n\u001b[1;32m    130\u001b[0m         \u001b[0;32mfor\u001b[0m \u001b[0ma\u001b[0m \u001b[0;32min\u001b[0m \u001b[0martists\u001b[0m\u001b[0;34m:\u001b[0m\u001b[0;34m\u001b[0m\u001b[0;34m\u001b[0m\u001b[0m\n\u001b[0;32m--> 131\u001b[0;31m             \u001b[0ma\u001b[0m\u001b[0;34m.\u001b[0m\u001b[0mdraw\u001b[0m\u001b[0;34m(\u001b[0m\u001b[0mrenderer\u001b[0m\u001b[0;34m)\u001b[0m\u001b[0;34m\u001b[0m\u001b[0;34m\u001b[0m\u001b[0m\n\u001b[0m\u001b[1;32m    132\u001b[0m     \u001b[0;32melse\u001b[0m\u001b[0;34m:\u001b[0m\u001b[0;34m\u001b[0m\u001b[0;34m\u001b[0m\u001b[0m\n\u001b[1;32m    133\u001b[0m         \u001b[0;31m# Composite any adjacent images together\u001b[0m\u001b[0;34m\u001b[0m\u001b[0;34m\u001b[0m\u001b[0m\n",
      "\u001b[0;32m/usr/local/lib/python3.10/dist-packages/matplotlib/artist.py\u001b[0m in \u001b[0;36mdraw_wrapper\u001b[0;34m(artist, renderer)\u001b[0m\n\u001b[1;32m     70\u001b[0m                 \u001b[0mrenderer\u001b[0m\u001b[0;34m.\u001b[0m\u001b[0mstart_filter\u001b[0m\u001b[0;34m(\u001b[0m\u001b[0;34m)\u001b[0m\u001b[0;34m\u001b[0m\u001b[0;34m\u001b[0m\u001b[0m\n\u001b[1;32m     71\u001b[0m \u001b[0;34m\u001b[0m\u001b[0m\n\u001b[0;32m---> 72\u001b[0;31m             \u001b[0;32mreturn\u001b[0m \u001b[0mdraw\u001b[0m\u001b[0;34m(\u001b[0m\u001b[0martist\u001b[0m\u001b[0;34m,\u001b[0m \u001b[0mrenderer\u001b[0m\u001b[0;34m)\u001b[0m\u001b[0;34m\u001b[0m\u001b[0;34m\u001b[0m\u001b[0m\n\u001b[0m\u001b[1;32m     73\u001b[0m         \u001b[0;32mfinally\u001b[0m\u001b[0;34m:\u001b[0m\u001b[0;34m\u001b[0m\u001b[0;34m\u001b[0m\u001b[0m\n\u001b[1;32m     74\u001b[0m             \u001b[0;32mif\u001b[0m \u001b[0martist\u001b[0m\u001b[0;34m.\u001b[0m\u001b[0mget_agg_filter\u001b[0m\u001b[0;34m(\u001b[0m\u001b[0;34m)\u001b[0m \u001b[0;32mis\u001b[0m \u001b[0;32mnot\u001b[0m \u001b[0;32mNone\u001b[0m\u001b[0;34m:\u001b[0m\u001b[0;34m\u001b[0m\u001b[0;34m\u001b[0m\u001b[0m\n",
      "\u001b[0;32m/usr/local/lib/python3.10/dist-packages/matplotlib/axes/_base.py\u001b[0m in \u001b[0;36mdraw\u001b[0;34m(self, renderer)\u001b[0m\n\u001b[1;32m   3062\u001b[0m             \u001b[0m_draw_rasterized\u001b[0m\u001b[0;34m(\u001b[0m\u001b[0mself\u001b[0m\u001b[0;34m.\u001b[0m\u001b[0mfigure\u001b[0m\u001b[0;34m,\u001b[0m \u001b[0martists_rasterized\u001b[0m\u001b[0;34m,\u001b[0m \u001b[0mrenderer\u001b[0m\u001b[0;34m)\u001b[0m\u001b[0;34m\u001b[0m\u001b[0;34m\u001b[0m\u001b[0m\n\u001b[1;32m   3063\u001b[0m \u001b[0;34m\u001b[0m\u001b[0m\n\u001b[0;32m-> 3064\u001b[0;31m         mimage._draw_list_compositing_images(\n\u001b[0m\u001b[1;32m   3065\u001b[0m             renderer, self, artists, self.figure.suppressComposite)\n\u001b[1;32m   3066\u001b[0m \u001b[0;34m\u001b[0m\u001b[0m\n",
      "\u001b[0;32m/usr/local/lib/python3.10/dist-packages/matplotlib/image.py\u001b[0m in \u001b[0;36m_draw_list_compositing_images\u001b[0;34m(renderer, parent, artists, suppress_composite)\u001b[0m\n\u001b[1;32m    129\u001b[0m     \u001b[0;32mif\u001b[0m \u001b[0mnot_composite\u001b[0m \u001b[0;32mor\u001b[0m \u001b[0;32mnot\u001b[0m \u001b[0mhas_images\u001b[0m\u001b[0;34m:\u001b[0m\u001b[0;34m\u001b[0m\u001b[0;34m\u001b[0m\u001b[0m\n\u001b[1;32m    130\u001b[0m         \u001b[0;32mfor\u001b[0m \u001b[0ma\u001b[0m \u001b[0;32min\u001b[0m \u001b[0martists\u001b[0m\u001b[0;34m:\u001b[0m\u001b[0;34m\u001b[0m\u001b[0;34m\u001b[0m\u001b[0m\n\u001b[0;32m--> 131\u001b[0;31m             \u001b[0ma\u001b[0m\u001b[0;34m.\u001b[0m\u001b[0mdraw\u001b[0m\u001b[0;34m(\u001b[0m\u001b[0mrenderer\u001b[0m\u001b[0;34m)\u001b[0m\u001b[0;34m\u001b[0m\u001b[0;34m\u001b[0m\u001b[0m\n\u001b[0m\u001b[1;32m    132\u001b[0m     \u001b[0;32melse\u001b[0m\u001b[0;34m:\u001b[0m\u001b[0;34m\u001b[0m\u001b[0;34m\u001b[0m\u001b[0m\n\u001b[1;32m    133\u001b[0m         \u001b[0;31m# Composite any adjacent images together\u001b[0m\u001b[0;34m\u001b[0m\u001b[0;34m\u001b[0m\u001b[0m\n",
      "\u001b[0;32m/usr/local/lib/python3.10/dist-packages/matplotlib/artist.py\u001b[0m in \u001b[0;36mdraw_wrapper\u001b[0;34m(artist, renderer)\u001b[0m\n\u001b[1;32m     70\u001b[0m                 \u001b[0mrenderer\u001b[0m\u001b[0;34m.\u001b[0m\u001b[0mstart_filter\u001b[0m\u001b[0;34m(\u001b[0m\u001b[0;34m)\u001b[0m\u001b[0;34m\u001b[0m\u001b[0;34m\u001b[0m\u001b[0m\n\u001b[1;32m     71\u001b[0m \u001b[0;34m\u001b[0m\u001b[0m\n\u001b[0;32m---> 72\u001b[0;31m             \u001b[0;32mreturn\u001b[0m \u001b[0mdraw\u001b[0m\u001b[0;34m(\u001b[0m\u001b[0martist\u001b[0m\u001b[0;34m,\u001b[0m \u001b[0mrenderer\u001b[0m\u001b[0;34m)\u001b[0m\u001b[0;34m\u001b[0m\u001b[0;34m\u001b[0m\u001b[0m\n\u001b[0m\u001b[1;32m     73\u001b[0m         \u001b[0;32mfinally\u001b[0m\u001b[0;34m:\u001b[0m\u001b[0;34m\u001b[0m\u001b[0;34m\u001b[0m\u001b[0m\n\u001b[1;32m     74\u001b[0m             \u001b[0;32mif\u001b[0m \u001b[0martist\u001b[0m\u001b[0;34m.\u001b[0m\u001b[0mget_agg_filter\u001b[0m\u001b[0;34m(\u001b[0m\u001b[0;34m)\u001b[0m \u001b[0;32mis\u001b[0m \u001b[0;32mnot\u001b[0m \u001b[0;32mNone\u001b[0m\u001b[0;34m:\u001b[0m\u001b[0;34m\u001b[0m\u001b[0;34m\u001b[0m\u001b[0m\n",
      "\u001b[0;32m/usr/local/lib/python3.10/dist-packages/matplotlib/quiver.py\u001b[0m in \u001b[0;36mdraw\u001b[0;34m(self, renderer)\u001b[0m\n\u001b[1;32m    539\u001b[0m     \u001b[0;32mdef\u001b[0m \u001b[0mdraw\u001b[0m\u001b[0;34m(\u001b[0m\u001b[0mself\u001b[0m\u001b[0;34m,\u001b[0m \u001b[0mrenderer\u001b[0m\u001b[0;34m)\u001b[0m\u001b[0;34m:\u001b[0m\u001b[0;34m\u001b[0m\u001b[0;34m\u001b[0m\u001b[0m\n\u001b[1;32m    540\u001b[0m         \u001b[0mself\u001b[0m\u001b[0;34m.\u001b[0m\u001b[0m_init\u001b[0m\u001b[0;34m(\u001b[0m\u001b[0;34m)\u001b[0m\u001b[0;34m\u001b[0m\u001b[0;34m\u001b[0m\u001b[0m\n\u001b[0;32m--> 541\u001b[0;31m         \u001b[0mverts\u001b[0m \u001b[0;34m=\u001b[0m \u001b[0mself\u001b[0m\u001b[0;34m.\u001b[0m\u001b[0m_make_verts\u001b[0m\u001b[0;34m(\u001b[0m\u001b[0mself\u001b[0m\u001b[0;34m.\u001b[0m\u001b[0mU\u001b[0m\u001b[0;34m,\u001b[0m \u001b[0mself\u001b[0m\u001b[0;34m.\u001b[0m\u001b[0mV\u001b[0m\u001b[0;34m,\u001b[0m \u001b[0mself\u001b[0m\u001b[0;34m.\u001b[0m\u001b[0mangles\u001b[0m\u001b[0;34m)\u001b[0m\u001b[0;34m\u001b[0m\u001b[0;34m\u001b[0m\u001b[0m\n\u001b[0m\u001b[1;32m    542\u001b[0m         \u001b[0mself\u001b[0m\u001b[0;34m.\u001b[0m\u001b[0mset_verts\u001b[0m\u001b[0;34m(\u001b[0m\u001b[0mverts\u001b[0m\u001b[0;34m,\u001b[0m \u001b[0mclosed\u001b[0m\u001b[0;34m=\u001b[0m\u001b[0;32mFalse\u001b[0m\u001b[0;34m)\u001b[0m\u001b[0;34m\u001b[0m\u001b[0;34m\u001b[0m\u001b[0m\n\u001b[1;32m    543\u001b[0m         \u001b[0msuper\u001b[0m\u001b[0;34m(\u001b[0m\u001b[0;34m)\u001b[0m\u001b[0;34m.\u001b[0m\u001b[0mdraw\u001b[0m\u001b[0;34m(\u001b[0m\u001b[0mrenderer\u001b[0m\u001b[0;34m)\u001b[0m\u001b[0;34m\u001b[0m\u001b[0;34m\u001b[0m\u001b[0m\n",
      "\u001b[0;32m/usr/local/lib/python3.10/dist-packages/matplotlib/quiver.py\u001b[0m in \u001b[0;36m_make_verts\u001b[0;34m(self, U, V, angles)\u001b[0m\n\u001b[1;32m    651\u001b[0m             \u001b[0mtheta\u001b[0m \u001b[0;34m=\u001b[0m \u001b[0mnp\u001b[0m\u001b[0;34m.\u001b[0m\u001b[0mangle\u001b[0m\u001b[0;34m(\u001b[0m\u001b[0muv\u001b[0m\u001b[0;34m)\u001b[0m\u001b[0;34m\u001b[0m\u001b[0;34m\u001b[0m\u001b[0m\n\u001b[1;32m    652\u001b[0m         \u001b[0;32melse\u001b[0m\u001b[0;34m:\u001b[0m\u001b[0;34m\u001b[0m\u001b[0;34m\u001b[0m\u001b[0m\n\u001b[0;32m--> 653\u001b[0;31m             \u001b[0mtheta\u001b[0m \u001b[0;34m=\u001b[0m \u001b[0mma\u001b[0m\u001b[0;34m.\u001b[0m\u001b[0mmasked_invalid\u001b[0m\u001b[0;34m(\u001b[0m\u001b[0mnp\u001b[0m\u001b[0;34m.\u001b[0m\u001b[0mdeg2rad\u001b[0m\u001b[0;34m(\u001b[0m\u001b[0mangles\u001b[0m\u001b[0;34m)\u001b[0m\u001b[0;34m)\u001b[0m\u001b[0;34m.\u001b[0m\u001b[0mfilled\u001b[0m\u001b[0;34m(\u001b[0m\u001b[0;36m0\u001b[0m\u001b[0;34m)\u001b[0m\u001b[0;34m\u001b[0m\u001b[0;34m\u001b[0m\u001b[0m\n\u001b[0m\u001b[1;32m    654\u001b[0m         \u001b[0mtheta\u001b[0m \u001b[0;34m=\u001b[0m \u001b[0mtheta\u001b[0m\u001b[0;34m.\u001b[0m\u001b[0mreshape\u001b[0m\u001b[0;34m(\u001b[0m\u001b[0;34m(\u001b[0m\u001b[0;34m-\u001b[0m\u001b[0;36m1\u001b[0m\u001b[0;34m,\u001b[0m \u001b[0;36m1\u001b[0m\u001b[0;34m)\u001b[0m\u001b[0;34m)\u001b[0m  \u001b[0;31m# for broadcasting\u001b[0m\u001b[0;34m\u001b[0m\u001b[0;34m\u001b[0m\u001b[0m\n\u001b[1;32m    655\u001b[0m         \u001b[0mxy\u001b[0m \u001b[0;34m=\u001b[0m \u001b[0;34m(\u001b[0m\u001b[0mX\u001b[0m \u001b[0;34m+\u001b[0m \u001b[0mY\u001b[0m \u001b[0;34m*\u001b[0m \u001b[0;36m1j\u001b[0m\u001b[0;34m)\u001b[0m \u001b[0;34m*\u001b[0m \u001b[0mnp\u001b[0m\u001b[0;34m.\u001b[0m\u001b[0mexp\u001b[0m\u001b[0;34m(\u001b[0m\u001b[0;36m1j\u001b[0m \u001b[0;34m*\u001b[0m \u001b[0mtheta\u001b[0m\u001b[0;34m)\u001b[0m \u001b[0;34m*\u001b[0m \u001b[0mself\u001b[0m\u001b[0;34m.\u001b[0m\u001b[0mwidth\u001b[0m\u001b[0;34m\u001b[0m\u001b[0;34m\u001b[0m\u001b[0m\n",
      "\u001b[0;31mTypeError\u001b[0m: ufunc 'deg2rad' not supported for the input types, and the inputs could not be safely coerced to any supported types according to the casting rule ''safe''"
     ]
    },
    {
     "data": {
      "text/plain": [
       "<Figure size 640x480 with 1 Axes>"
      ]
     },
     "metadata": {},
     "output_type": "display_data"
    }
   ],
   "source": [
    "import matplotlib.pyplot as plt\n",
    "plt.scatter(x[:,0],x[:,1])\n",
    "# plt.quiver(0,0,Vt[0,0],Vt[0,1],angles='x',scale_units='x',scale=S)\n",
    "plt.show()"
   ]
  },
  {
   "cell_type": "code",
   "execution_count": null,
   "metadata": {
    "id": "qMMQbPXOLtmm"
   },
   "outputs": [],
   "source": [
    "from sklearn.datasets import load_iris\n",
    "\n",
    "data = load_iris()\n",
    "x = data.data\n",
    "y = data.target\n",
    "\n"
   ]
  },
  {
   "cell_type": "code",
   "execution_count": null,
   "metadata": {
    "colab": {
     "base_uri": "https://localhost:8080/"
    },
    "id": "v1xwOAROMQIG",
    "outputId": "cb75a45a-92b5-46fe-ef2c-23fb1e64afaa"
   },
   "outputs": [
    {
     "data": {
      "text/plain": [
       "SVDResult(U=array([[-0.06161685,  0.12961144,  0.0021386 , ..., -0.09343429,\n",
       "        -0.09573864, -0.08085465],\n",
       "       [-0.05807094,  0.11101978,  0.07067239, ...,  0.03690405,\n",
       "        -0.03153954,  0.01309526],\n",
       "       [-0.05676305,  0.11796647,  0.00434255, ...,  0.03066199,\n",
       "         0.19531473,  0.13569909],\n",
       "       ...,\n",
       "       [-0.0940593 , -0.0498297 , -0.04144001, ...,  0.98181631,\n",
       "        -0.02194514, -0.00894446],\n",
       "       [-0.09488961, -0.05610123, -0.21297821, ..., -0.02155617,\n",
       "         0.94178018, -0.02971961],\n",
       "       [-0.08847836, -0.0515697 , -0.09575285, ..., -0.0086052 ,\n",
       "        -0.03021088,  0.9736599 ]]), S=array([95.95991387, 17.76103366,  3.46093093,  1.88482631]), Vh=array([[-0.75110816, -0.38008617, -0.51300886, -0.16790754],\n",
       "       [ 0.2841749 ,  0.5467445 , -0.70866455, -0.34367081],\n",
       "       [ 0.50215472, -0.67524332, -0.05916621, -0.53701625],\n",
       "       [ 0.32081425, -0.31725607, -0.48074507,  0.75187165]]))"
      ]
     },
     "execution_count": 19,
     "metadata": {},
     "output_type": "execute_result"
    }
   ],
   "source": [
    "np.linalg.svd(x)"
   ]
  },
  {
   "cell_type": "code",
   "execution_count": null,
   "metadata": {
    "colab": {
     "base_uri": "https://localhost:8080/"
    },
    "id": "RvMlBoDHMnhf",
    "outputId": "30559a29-7691-43c6-e0a7-475d788a650a"
   },
   "outputs": [
    {
     "name": "stdout",
     "output_type": "stream",
     "text": [
      "V [[-0.75110816  0.2841749   0.50215472  0.32081425]\n",
      " [-0.38008617  0.5467445  -0.67524332 -0.31725607]\n",
      " [-0.51300886 -0.70866455 -0.05916621 -0.48074507]\n",
      " [-0.16790754 -0.34367081 -0.53701625  0.75187165]]\n"
     ]
    }
   ],
   "source": [
    "U, S, Vt = np.linalg.svd(x)\n",
    "print(\"V\",Vt.T)"
   ]
  },
  {
   "cell_type": "code",
   "execution_count": null,
   "metadata": {
    "colab": {
     "base_uri": "https://localhost:8080/"
    },
    "id": "xp-RhBkcMzQL",
    "outputId": "ec3a8d68-aeee-46bd-80c1-adc1f570acc7"
   },
   "outputs": [
    {
     "data": {
      "text/plain": [
       "array([[-5.91274714e+00,  2.30203322e+00,  7.40153559e-03,\n",
       "         3.08770624e-03],\n",
       "       [-5.57248242e+00,  1.97182599e+00,  2.44592251e-01,\n",
       "         9.75528883e-02],\n",
       "       [-5.44697714e+00,  2.09520636e+00,  1.50292625e-02,\n",
       "         1.80133308e-02],\n",
       "       [-5.43645948e+00,  1.87038151e+00,  2.05048805e-02,\n",
       "        -7.84915014e-02],\n",
       "       [-5.87564494e+00,  2.32829018e+00, -1.10338269e-01,\n",
       "        -6.07193259e-02],\n",
       "       [-6.47759822e+00,  2.32464996e+00, -2.37202487e-01,\n",
       "        -2.14196330e-02],\n",
       "       [-5.51597520e+00,  2.07090423e+00, -2.29853120e-01,\n",
       "        -5.04066493e-02],\n",
       "       [-5.85092859e+00,  2.14807482e+00,  1.87937744e-02,\n",
       "        -4.53426193e-02],\n",
       "       [-5.15891972e+00,  1.77506408e+00,  6.10392203e-02,\n",
       "        -3.11286325e-02],\n",
       "       [-5.64500117e+00,  1.99000106e+00,  2.24852923e-01,\n",
       "        -5.74343903e-02],\n",
       "       [-6.26539771e+00,  2.42576813e+00,  1.70826682e-02,\n",
       "        -1.21937372e-02],\n",
       "       [-5.75200785e+00,  2.02037338e+00, -8.75537913e-02,\n",
       "        -1.57579977e-01],\n",
       "       [-5.48058085e+00,  1.97777558e+00,  2.48078403e-01,\n",
       "        -9.71570252e-03],\n",
       "       [-4.95112411e+00,  2.04828749e+00,  1.47509030e-02,\n",
       "        -2.58993100e-02],\n",
       "       [-6.52596417e+00,  2.91606081e+00,  3.31214244e-02,\n",
       "         1.65178665e-01],\n",
       "       [-6.79037199e+00,  2.82500759e+00, -4.12344488e-01,\n",
       "         1.23456237e-02],\n",
       "       [-6.27239468e+00,  2.60811578e+00, -2.13536004e-01,\n",
       "         1.70878394e-01],\n",
       "       [-5.92953789e+00,  2.26766614e+00, -4.63000893e-02,\n",
       "         7.82748716e-02],\n",
       "       [-6.64813130e+00,  2.38959506e+00,  3.46698872e-02,\n",
       "         3.13630848e-02],\n",
       "       [-6.09486463e+00,  2.36082303e+00, -2.54789706e-01,\n",
       "        -6.49764549e-02],\n",
       "       [-6.25397363e+00,  2.12001187e+00,  2.07822423e-01,\n",
       "        -1.31659306e-02],\n",
       "       [-6.07364677e+00,  2.27178150e+00, -2.40966999e-01,\n",
       "         4.19363171e-02],\n",
       "       [-5.36999813e+00,  2.49808604e+00, -2.87533676e-01,\n",
       "         3.25299874e-03],\n",
       "       [-6.04100482e+00,  1.87698371e+00, -3.64045375e-02,\n",
       "         1.47876896e-01],\n",
       "       [-5.90591050e+00,  1.80777402e+00, -1.05303653e-01,\n",
       "        -3.01803497e-01],\n",
       "       [-5.75019501e+00,  1.85851056e+00,  2.82974481e-01,\n",
       "         3.34853005e-02],\n",
       "       [-5.93581099e+00,  2.00847420e+00, -9.45260962e-02,\n",
       "         5.69572048e-02],\n",
       "       [-6.03915884e+00,  2.25958425e+00,  5.17003873e-02,\n",
       "        -1.29053749e-02],\n",
       "       [-5.94984934e+00,  2.27577626e+00,  1.25141340e-01,\n",
       "         6.68947383e-02],\n",
       "       [-5.60087980e+00,  1.88260699e+00, -2.72059978e-03,\n",
       "        -1.26210189e-01],\n",
       "       [-5.63798200e+00,  1.85635003e+00,  1.15019205e-01,\n",
       "        -6.24031571e-02],\n",
       "       [-6.18495337e+00,  2.19301062e+00,  1.12252414e-01,\n",
       "         2.33357413e-01],\n",
       "       [-6.25041979e+00,  2.62199803e+00, -2.99743980e-01,\n",
       "        -2.78446180e-01],\n",
       "       [-6.47925073e+00,  2.79842433e+00, -2.64406898e-01,\n",
       "        -9.06658381e-02],\n",
       "       [-5.66179193e+00,  1.95563398e+00,  1.71151298e-01,\n",
       "         1.77527751e-02],\n",
       "       [-5.62100870e+00,  2.25132529e+00,  1.71592301e-01,\n",
       "         1.62332114e-01],\n",
       "       [-6.16188952e+00,  2.48656963e+00,  2.14180046e-01,\n",
       "         1.79487915e-01],\n",
       "       [-5.78374337e+00,  2.33423977e+00, -1.06852116e-01,\n",
       "        -1.67987917e-01],\n",
       "       [-5.14562746e+00,  1.90060499e+00, -5.68490950e-04,\n",
       "        -1.47797325e-02],\n",
       "       [-5.92603941e+00,  2.17649231e+00,  6.90092468e-02,\n",
       "        -1.32611938e-02],\n",
       "       [-5.80312619e+00,  2.31011510e+00, -9.05989410e-02,\n",
       "         9.42679527e-02],\n",
       "       [-4.97146870e+00,  1.51193425e+00,  4.68615680e-01,\n",
       "         3.14568105e-01],\n",
       "       [-5.22164469e+00,  2.00995389e+00, -1.35617155e-01,\n",
       "        -7.82309457e-02],\n",
       "       [-6.00740111e+00,  1.99441449e+00, -2.69453678e-01,\n",
       "         1.75605929e-01],\n",
       "       [-6.31685893e+00,  2.04299013e+00, -3.32157814e-01,\n",
       "        -1.82087316e-01],\n",
       "       [-5.51416236e+00,  1.90904141e+00,  1.40675153e-01,\n",
       "         1.40658628e-01],\n",
       "       [-6.12937476e+00,  2.32432366e+00, -2.07004702e-01,\n",
       "        -1.88238127e-01],\n",
       "       [-5.42316721e+00,  1.99592242e+00, -4.11028307e-02,\n",
       "        -6.21426014e-02],\n",
       "       [-6.19028689e+00,  2.39735064e+00, -3.31328042e-02,\n",
       "        -4.42751627e-02],\n",
       "       [-5.76161909e+00,  2.16426683e+00,  9.22347271e-02,\n",
       "         3.44574940e-02],\n",
       "       [-9.12024508e+00, -7.30558200e-02,  3.24400524e-01,\n",
       "         2.35988754e-02],\n",
       "       [-8.58376916e+00, -1.36194931e-01, -1.87606940e-02,\n",
       "         2.44650109e-03],\n",
       "       [-9.12651817e+00, -3.32247752e-01,  2.76174517e-01,\n",
       "         2.28120858e-03],\n",
       "       [-7.27560832e+00, -4.60955955e-01,  2.74005395e-01,\n",
       "         8.92423337e-02],\n",
       "       [-8.55814639e+00, -3.97341697e-01,  2.95635486e-01,\n",
       "         1.13355846e-01],\n",
       "       [-7.87237747e+00, -4.85081002e-01,  7.23157664e-03,\n",
       "        -2.45595382e-01],\n",
       "       [-8.66605949e+00, -2.86037963e-01, -2.02035365e-01,\n",
       "        -8.23223790e-02],\n",
       "       [-6.45347358e+00,  2.23799845e-02,  1.07709449e-01,\n",
       "        -2.40117754e-02],\n",
       "       [-8.63768432e+00, -2.45515595e-01,  3.85729876e-01,\n",
       "        -3.66626654e-02],\n",
       "       [-7.16780021e+00, -2.91011251e-01, -1.94523354e-01,\n",
       "        -1.06426972e-02],\n",
       "       [-6.47915170e+00, -3.09633237e-01,  4.16189007e-01,\n",
       "         3.88230633e-02],\n",
       "       [-7.97829519e+00, -1.75031916e-01, -1.17039530e-01,\n",
       "         4.97141068e-02],\n",
       "       [-7.56278153e+00, -2.70441712e-01,  7.53711964e-01,\n",
       "         5.58135717e-02],\n",
       "       [-8.33022188e+00, -4.92836582e-01,  7.50342680e-02,\n",
       "        -1.69957134e-01],\n",
       "       [-7.37356730e+00,  1.78974058e-01, -5.72586411e-02,\n",
       "         1.23268146e-01],\n",
       "       [-8.70300135e+00, -3.83374315e-04,  2.59028301e-01,\n",
       "         1.03303725e-01],\n",
       "       [-7.90686540e+00, -4.72883753e-01, -2.85435810e-01,\n",
       "        -1.90753690e-01],\n",
       "       [-7.65390386e+00, -1.24770897e-01,  3.09742739e-01,\n",
       "        -2.15051819e-01],\n",
       "       [-8.05346136e+00, -7.39774413e-01,  5.56051681e-01,\n",
       "         2.55539716e-01],\n",
       "       [-7.34185398e+00, -1.83588948e-01,  3.02492074e-01,\n",
       "        -4.44272781e-02],\n",
       "       [-8.41249000e+00, -5.93982991e-01, -4.48692793e-01,\n",
       "        -7.66226502e-02],\n",
       "       [-7.91631631e+00, -1.70787632e-02,  2.37676570e-01,\n",
       "         1.23102854e-01],\n",
       "       [-8.44780157e+00, -8.30799394e-01,  3.80027674e-01,\n",
       "         1.46295322e-04],\n",
       "       [-8.25863175e+00, -4.78776871e-01,  2.49961850e-01,\n",
       "        -2.88605858e-01],\n",
       "       [-8.33356003e+00, -8.97512089e-02,  3.03048793e-01,\n",
       "         4.33980035e-02],\n",
       "       [-8.58988192e+00, -8.34753146e-02,  2.76337160e-01,\n",
       "         1.02947907e-01],\n",
       "       [-8.86928986e+00, -4.19455056e-01,  4.88150286e-01,\n",
       "         3.82639442e-02],\n",
       "       [-9.02317031e+00, -5.83357800e-01,  1.29948034e-01,\n",
       "         7.21437883e-02],\n",
       "       [-8.16930004e+00, -4.13888242e-01, -1.70495879e-02,\n",
       "        -3.07023810e-02],\n",
       "       [-7.23297912e+00,  2.17335895e-01,  3.62551323e-01,\n",
       "         7.30394020e-02],\n",
       "       [-7.17743366e+00, -1.95814432e-01,  3.25717555e-01,\n",
       "         3.29140968e-03],\n",
       "       [-7.10934202e+00, -9.05808962e-02,  3.85335800e-01,\n",
       "        -2.38212490e-02],\n",
       "       [-7.58488360e+00, -5.17721477e-02,  2.14172730e-01,\n",
       "         3.14715250e-02],\n",
       "       [-8.41787888e+00, -9.82802956e-01,  2.87977267e-02,\n",
       "        -1.80511042e-01],\n",
       "       [-7.75664376e+00, -5.29718734e-01, -3.85866754e-01,\n",
       "        -2.54916541e-01],\n",
       "       [-8.37613388e+00, -1.74883073e-01, -4.08372873e-01,\n",
       "        -1.14143249e-01],\n",
       "       [-8.87369476e+00, -2.47349822e-01,  1.87576814e-01,\n",
       "         3.42673709e-02],\n",
       "       [-8.08169840e+00, -5.17081855e-01,  6.52062692e-01,\n",
       "         1.53595711e-01],\n",
       "       [-7.66808034e+00, -1.20683770e-01, -1.54366077e-01,\n",
       "        -1.48829994e-01],\n",
       "       [-7.35162556e+00, -3.51607055e-01,  1.38956731e-01,\n",
       "         2.57911205e-02],\n",
       "       [-7.57804696e+00, -5.46031346e-01,  1.01467541e-01,\n",
       "        -2.73419678e-01],\n",
       "       [-8.31692961e+00, -3.67295677e-01,  1.34265568e-02,\n",
       "        -1.53608234e-01],\n",
       "       [-7.59817587e+00, -1.77313053e-01,  2.75780442e-01,\n",
       "         1.51226250e-02],\n",
       "       [-6.49057578e+00, -3.87697543e-03,  2.25449253e-01,\n",
       "         3.97952567e-02],\n",
       "       [-7.60535538e+00, -3.55573575e-01,  4.22902984e-02,\n",
       "        -1.01727681e-01],\n",
       "       [-7.77770129e+00, -1.28765654e-01, -5.63656001e-02,\n",
       "        -2.40010240e-01],\n",
       "       [-7.75648343e+00, -2.17807185e-01, -4.25428931e-02,\n",
       "        -1.33097468e-01],\n",
       "       [-8.18333840e+00, -1.46586189e-01,  2.02617848e-01,\n",
       "        -2.07648475e-02],\n",
       "       [-6.50459193e+00,  3.12121701e-01,  1.04664299e-01,\n",
       "         2.27836154e-01],\n",
       "       [-7.66717393e+00, -2.01615180e-01,  3.08980596e-02,\n",
       "        -5.32973550e-02],\n",
       "       [-9.48408779e+00, -1.51660561e+00, -7.62266059e-01,\n",
       "        -3.06064771e-02],\n",
       "       [-8.31802951e+00, -1.14273918e+00, -2.32738093e-01,\n",
       "        -1.91123972e-02],\n",
       "       [-9.85248456e+00, -1.24495426e+00,  6.27538370e-02,\n",
       "         6.85475919e-02],\n",
       "       [-9.00931450e+00, -1.21126802e+00, -9.25908735e-02,\n",
       "        -2.37716182e-01],\n",
       "       [-9.36730953e+00, -1.37895983e+00, -2.86324002e-01,\n",
       "        -6.79289088e-04],\n",
       "       [-1.05871448e+01, -1.59893200e+00,  2.72414854e-01,\n",
       "        -1.07566827e-01],\n",
       "       [-7.22462810e+00, -1.01391260e+00, -4.06725707e-01,\n",
       "        -1.06321304e-01],\n",
       "       [-1.01195289e+01, -1.42315831e+00,  3.68147506e-01,\n",
       "        -2.53423473e-01],\n",
       "       [-9.26032507e+00, -1.45802877e+00,  3.66535103e-01,\n",
       "        -7.86370665e-02],\n",
       "       [-1.03254119e+01, -1.16769130e+00, -5.18816424e-01,\n",
       "         1.14875026e-01],\n",
       "       [-9.05063906e+00, -7.04811578e-01, -2.72553071e-01,\n",
       "         1.22016713e-01],\n",
       "       [-8.87129618e+00, -1.11396715e+00,  5.67215001e-02,\n",
       "         7.72271424e-02],\n",
       "       [-9.42194857e+00, -1.04674091e+00, -6.42260973e-02,\n",
       "         1.64601342e-01],\n",
       "       [-8.13239132e+00, -1.24400619e+00, -1.95689906e-01,\n",
       "         1.35519063e-01],\n",
       "       [-8.43999189e+00, -1.25990013e+00, -5.68770550e-01,\n",
       "         3.25097823e-01],\n",
       "       [-9.12850228e+00, -9.78063221e-01, -4.95706659e-01,\n",
       "         2.19347771e-01],\n",
       "       [-9.14624386e+00, -1.02889214e+00, -5.37676399e-02,\n",
       "        -1.57204431e-01],\n",
       "       [-1.10344162e+01, -1.23835244e+00, -2.77182575e-01,\n",
       "        -3.02177596e-01],\n",
       "       [-1.06977054e+01, -2.07054584e+00,  4.67574542e-01,\n",
       "         5.75678355e-02],\n",
       "       [-8.15974415e+00, -1.15094167e+00,  4.26037632e-01,\n",
       "        -4.89956680e-02],\n",
       "       [-9.70925990e+00, -1.11944159e+00, -2.68295780e-01,\n",
       "         1.87456872e-01],\n",
       "       [-8.12000547e+00, -1.03753388e+00, -4.42561753e-01,\n",
       "         5.63353238e-02],\n",
       "       [-1.06207486e+01, -1.71636278e+00,  5.05463995e-01,\n",
       "        -1.35295860e-01],\n",
       "       [-8.57419106e+00, -8.24551736e-01,  8.38741356e-02,\n",
       "         1.62256578e-01],\n",
       "       [-9.56346538e+00, -1.05286796e+00, -3.28847807e-01,\n",
       "        -5.88059167e-02],\n",
       "       [-1.00045412e+01, -1.07495308e+00,  1.33108900e-01,\n",
       "        -2.36458199e-01],\n",
       "       [-8.48578798e+00, -7.27428321e-01, -2.79490480e-02,\n",
       "         1.46524053e-01],\n",
       "       [-8.53799528e+00, -7.17363366e-01, -2.19129805e-01,\n",
       "         2.91690733e-03],\n",
       "       [-9.09678896e+00, -1.34062623e+00, -1.35955944e-01,\n",
       "         5.16523466e-02],\n",
       "       [-9.79234073e+00, -9.73834912e-01,  3.87394055e-01,\n",
       "        -2.27232303e-01],\n",
       "       [-1.00708200e+01, -1.34204944e+00,  4.44018927e-01,\n",
       "        -1.82802624e-02],\n",
       "       [-1.09971537e+01, -9.00183935e-01, -5.15985179e-02,\n",
       "        -2.44165556e-01],\n",
       "       [-9.11357971e+00, -1.37499331e+00, -1.89657569e-01,\n",
       "         1.26839512e-01],\n",
       "       [-8.66442919e+00, -8.08508955e-01,  1.65621437e-01,\n",
       "        -1.91179538e-01],\n",
       "       [-8.67790400e+00, -1.29465803e+00,  2.24357677e-01,\n",
       "        -5.07450874e-01],\n",
       "       [-1.04393327e+01, -1.28491639e+00,  2.44810180e-01,\n",
       "         3.15261462e-01],\n",
       "       [-9.30010211e+00, -1.14409826e+00, -7.52422283e-01,\n",
       "         5.47787775e-02],\n",
       "       [-9.10914166e+00, -1.00263518e+00, -1.71507444e-01,\n",
       "        -2.21011463e-01],\n",
       "       [-8.41158358e+00, -6.74914401e-01, -2.63428657e-01,\n",
       "         1.89099885e-02],\n",
       "       [-9.48376712e+00, -8.92782514e-01, -7.56183361e-02,\n",
       "         2.13031667e-01],\n",
       "       [-9.48651952e+00, -1.19445165e+00, -3.48987397e-01,\n",
       "         2.78281299e-01],\n",
       "       [-9.36344597e+00, -7.48917309e-01, -1.65271724e-01,\n",
       "         5.07629518e-01],\n",
       "       [-8.31802951e+00, -1.14273918e+00, -2.32738093e-01,\n",
       "        -1.91123972e-02],\n",
       "       [-9.73675086e+00, -1.28959199e+00, -3.30344494e-01,\n",
       "         5.92264329e-02],\n",
       "       [-9.63062839e+00, -1.19033628e+00, -5.43654307e-01,\n",
       "         2.41942745e-01],\n",
       "       [-9.22651660e+00, -9.31293195e-01, -2.04094957e-01,\n",
       "         4.27117767e-01],\n",
       "       [-8.56626547e+00, -1.03913417e+00,  1.59304554e-01,\n",
       "         2.52820450e-01],\n",
       "       [-9.02592271e+00, -8.85026933e-01, -1.43421027e-01,\n",
       "         1.37393420e-01],\n",
       "       [-9.10559876e+00, -9.96415757e-01, -7.37102889e-01,\n",
       "         4.36591999e-02],\n",
       "       [-8.49037542e+00, -9.15931258e-01, -3.31393992e-01,\n",
       "        -1.57394957e-01]])"
      ]
     },
     "execution_count": 23,
     "metadata": {},
     "output_type": "execute_result"
    }
   ],
   "source": [
    "x_pca =  np.dot(x,Vt.T)\n",
    "x_pca"
   ]
  },
  {
   "cell_type": "code",
   "execution_count": null,
   "metadata": {
    "colab": {
     "base_uri": "https://localhost:8080/",
     "height": 430
    },
    "id": "N1BW6fb0N9vk",
    "outputId": "10a3de69-1240-4af5-9702-f082aa3f287f"
   },
   "outputs": [
    {
     "data": {
      "image/png": "[encoded data removed]",
      "text/plain": [
       "<Figure size 640x480 with 1 Axes>"
      ]
     },
     "metadata": {},
     "output_type": "display_data"
    }
   ],
   "source": [
    "plt.scatter(x_pca[:,0], x_pca[:,1], c=y)\n",
    "plt.show()"
   ]
  },
  {
   "cell_type": "code",
   "execution_count": null,
   "metadata": {
    "colab": {
     "base_uri": "https://localhost:8080/",
     "height": 217
    },
    "id": "ZFodfqCoXXqP",
    "outputId": "6c1afa20-4714-49f0-ea7e-a0ffa76f8ada"
   },
   "outputs": [
    {
     "ename": "ValueError",
     "evalue": "operands could not be broadcast together with shapes (150,4) (150,) ",
     "output_type": "error",
     "traceback": [
      "\u001b[0;31m---------------------------------------------------------------------------\u001b[0m",
      "\u001b[0;31mValueError\u001b[0m                                Traceback (most recent call last)",
      "\u001b[0;32m<ipython-input-29-69dece3948f6>\u001b[0m in \u001b[0;36m<cell line: 4>\u001b[0;34m()\u001b[0m\n\u001b[1;32m      2\u001b[0m \u001b[0mSx\u001b[0m \u001b[0;34m=\u001b[0m \u001b[0mnp\u001b[0m\u001b[0;34m.\u001b[0m\u001b[0msum\u001b[0m\u001b[0;34m(\u001b[0m\u001b[0mx\u001b[0m\u001b[0;34m)\u001b[0m\u001b[0;34m\u001b[0m\u001b[0;34m\u001b[0m\u001b[0m\n\u001b[1;32m      3\u001b[0m \u001b[0mSy\u001b[0m \u001b[0;34m=\u001b[0m \u001b[0mnp\u001b[0m\u001b[0;34m.\u001b[0m\u001b[0msum\u001b[0m\u001b[0;34m(\u001b[0m\u001b[0my\u001b[0m\u001b[0;34m)\u001b[0m\u001b[0;34m\u001b[0m\u001b[0;34m\u001b[0m\u001b[0m\n\u001b[0;32m----> 4\u001b[0;31m \u001b[0mSxy\u001b[0m \u001b[0;34m=\u001b[0m \u001b[0mnp\u001b[0m\u001b[0;34m.\u001b[0m\u001b[0msum\u001b[0m\u001b[0;34m(\u001b[0m\u001b[0mx\u001b[0m\u001b[0;34m*\u001b[0m\u001b[0my\u001b[0m\u001b[0;34m)\u001b[0m\u001b[0;34m\u001b[0m\u001b[0;34m\u001b[0m\u001b[0m\n\u001b[0m\u001b[1;32m      5\u001b[0m \u001b[0mSxx\u001b[0m \u001b[0;34m=\u001b[0m \u001b[0mnp\u001b[0m\u001b[0;34m.\u001b[0m\u001b[0msum\u001b[0m\u001b[0;34m(\u001b[0m\u001b[0mx\u001b[0m\u001b[0;34m**\u001b[0m\u001b[0;36m2\u001b[0m\u001b[0;34m,\u001b[0m\u001b[0maxis\u001b[0m\u001b[0;34m=\u001b[0m\u001b[0;36m0\u001b[0m\u001b[0;34m)\u001b[0m\u001b[0;34m\u001b[0m\u001b[0;34m\u001b[0m\u001b[0m\n\u001b[1;32m      6\u001b[0m \u001b[0mSyy\u001b[0m \u001b[0;34m=\u001b[0m \u001b[0mnp\u001b[0m\u001b[0;34m.\u001b[0m\u001b[0msum\u001b[0m\u001b[0;34m(\u001b[0m\u001b[0my\u001b[0m\u001b[0;34m**\u001b[0m\u001b[0;36m2\u001b[0m\u001b[0;34m)\u001b[0m\u001b[0;34m\u001b[0m\u001b[0;34m\u001b[0m\u001b[0m\n",
      "\u001b[0;31mValueError\u001b[0m: operands could not be broadcast together with shapes (150,4) (150,) "
     ]
    }
   ],
   "source": [
    "n = len (x)\n",
    "Sx = np.sum(x)\n",
    "Sy = np.sum(y)\n",
    "Sxy = np.sum(x*y)\n",
    "Sxx = np.sum(x**2,axis=0)\n",
    "Syy = np.sum(y**2)"
   ]
  },
  {
   "cell_type": "code",
   "execution_count": null,
   "metadata": {
    "id": "jQdsKXytYVfc"
   },
   "outputs": [],
   "source": [
    "a1,a0=np.polyfit(x[:,0],y,1)"
   ]
  },
  {
   "cell_type": "code",
   "execution_count": null,
   "metadata": {
    "colab": {
     "base_uri": "https://localhost:8080/"
    },
    "id": "OE1pQTrKY4Hp",
    "outputId": "186b0175-77f6-46ab-ec1f-21d4653a82db"
   },
   "outputs": [
    {
     "name": "stdout",
     "output_type": "stream",
     "text": [
      "a0 -3.523981664246912\n",
      "a1 0.7742124924552618\n"
     ]
    }
   ],
   "source": [
    "print(\"a0\",a0)\n",
    "print(\"a1\",a1)"
   ]
  },
  {
   "cell_type": "code",
   "execution_count": null,
   "metadata": {
    "id": "S5ozsXiXZOGQ"
   },
   "outputs": [],
   "source": [
    "from sklearn.metrics import r2_score"
   ]
  },
  {
   "cell_type": "code",
   "execution_count": null,
   "metadata": {
    "colab": {
     "base_uri": "https://localhost:8080/",
     "height": 449
    },
    "id": "5le9jLEWgG2U",
    "outputId": "7fffdaff-d761-4b2f-93b9-f9ad81ffba77"
   },
   "outputs": [
    {
     "data": {
      "image/png": "[encoded data removed]",
      "text/plain": [
       "<Figure size 640x480 with 1 Axes>"
      ]
     },
     "metadata": {},
     "output_type": "display_data"
    }
   ],
   "source": [
    "x = np.array([1,2,3,4,5,])\n",
    "y = np.array([-9.7,-4.5,-3.6,-3.5,-3.4])\n",
    "\n",
    "plt.scatter(x,y)\n",
    "plt.xlabel(\"x\")\n",
    "plt.ylabel(\"y\")\n",
    "plt.show()"
   ]
  },
  {
   "cell_type": "code",
   "execution_count": null,
   "metadata": {
    "colab": {
     "base_uri": "https://localhost:8080/",
     "height": 449
    },
    "id": "j1D_eZpugvl2",
    "outputId": "1e9d0f2e-74c5-4b15-93b3-bb1ecbd12823"
   },
   "outputs": [
    {
     "data": {
      "image/png": "[encoded data removed]",
      "text/plain": [
       "<Figure size 640x480 with 1 Axes>"
      ]
     },
     "metadata": {},
     "output_type": "display_data"
    }
   ],
   "source": [
    "# ทำให้เป็นเส้นตรง\n",
    "x_inv= 1/x\n",
    "y_inv = 1/y\n",
    "plt.scatter(x_inv,y_inv)\n",
    "plt.xlabel(\"x\")\n",
    "plt.ylabel(\"y\")\n",
    "plt.show()"
   ]
  },
  {
   "cell_type": "code",
   "execution_count": null,
   "metadata": {
    "colab": {
     "base_uri": "https://localhost:8080/"
    },
    "id": "WDrhh58vhC3n",
    "outputId": "fe5b94e1-d445-4a34-c9b7-ce64cc52e888"
   },
   "outputs": [
    {
     "name": "stdout",
     "output_type": "stream",
     "text": [
      "a0 -0.3485072513603211\n",
      "a1 0.24508534621460243\n"
     ]
    }
   ],
   "source": [
    "a1,a0=np.polyfit(x_inv,y_inv,1)\n",
    "print(\"a0\",a0)\n",
    "print(\"a1\",a1)\n",
    "#  ค่าที่ได้เป็น y_inv = a0+a1*x_inv"
   ]
  },
  {
   "cell_type": "code",
   "execution_count": null,
   "metadata": {
    "colab": {
     "base_uri": "https://localhost:8080/"
    },
    "id": "7TrX_HZxg96R",
    "outputId": "96898677-a4e2-4ae8-fb0b-e14b265a8350"
   },
   "outputs": [
    {
     "name": "stdout",
     "output_type": "stream",
     "text": [
      "alpha 4.080211303716122\n",
      "beta -1.421983226427418\n"
     ]
    }
   ],
   "source": [
    "alpha = 1/a1\n",
    "beta = a0/a1\n",
    "print(\"alpha\",alpha)\n",
    "print(\"beta\",beta)\n"
   ]
  },
  {
   "cell_type": "code",
   "execution_count": null,
   "metadata": {
    "colab": {
     "base_uri": "https://localhost:8080/",
     "height": 449
    },
    "id": "0pvLpC4GioBO",
    "outputId": "9339d62e-1306-49ce-f4f6-b748a790d6da"
   },
   "outputs": [
    {
     "data": {
      "image/png": "[encoded data removed]",
      "text/plain": [
       "<Figure size 640x480 with 1 Axes>"
      ]
     },
     "metadata": {},
     "output_type": "display_data"
    }
   ],
   "source": [
    "x_ = np.linspace(1,5,1000)\n",
    "y_ = alpha*x_ / (beta + x_)\n",
    "plt.scatter(x,y)\n",
    "plt.plot(x_,y_,c=\"r\")\n",
    "plt.xlabel(\"x\")\n",
    "plt.ylabel(\"y\")\n",
    "plt.show()\n",
    "#"
   ]
  },
  {
   "cell_type": "code",
   "execution_count": null,
   "metadata": {
    "colab": {
     "base_uri": "https://localhost:8080/"
    },
    "id": "fqxeQM-ajo1g",
    "outputId": "49e061ff-e59c-441f-cf3f-ba92af9a4829"
   },
   "outputs": [
    {
     "name": "stdout",
     "output_type": "stream",
     "text": [
      "-17346.275393061802\n"
     ]
    }
   ],
   "source": [
    "y_pred = alpha*x / (beta + x)\n",
    "r2 = r2_score(y_inv,y_pred)\n",
    "print(r2)"
   ]
  },
  {
   "cell_type": "code",
   "execution_count": null,
   "metadata": {
    "id": "Nnu6M6PxQ7E6"
   },
   "outputs": [],
   "source": [
    "import pandas as pd\n",
    "import matplotlib.pyplot as plt\n",
    "import numpy as np\n",
    "import statsmodels.api as sm"
   ]
  },
  {
   "cell_type": "code",
   "execution_count": null,
   "metadata": {
    "colab": {
     "base_uri": "https://localhost:8080/",
     "height": 449
    },
    "id": "GGMUot68kAjL",
    "outputId": "4dd45775-32e9-48c0-9047-58447b3f19d9"
   },
   "outputs": [
    {
     "data": {
      "image/png": "[encoded data removed]",
      "text/plain": [
       "<Figure size 640x480 with 1 Axes>"
      ]
     },
     "metadata": {},
     "output_type": "display_data"
    }
   ],
   "source": [
    "\n",
    "# Create DataFrame\n",
    "df = pd.DataFrame({\"crabs\":[2,4,2,5,4,0,3,5,1,3],\"clams\":[137,70,184,0,35,297,122,1,253,150]})\n",
    "\n",
    "plt.scatter(df[\"crabs\"],df[\"clams\"])\n",
    "plt.xlabel(\"crabs\")\n",
    "plt.ylabel(\"clams\")\n",
    "plt.show()\n",
    "#"
   ]
  },
  {
   "cell_type": "code",
   "execution_count": null,
   "metadata": {
    "colab": {
     "base_uri": "https://localhost:8080/",
     "height": 507
    },
    "id": "R1kp1-d0RUyy",
    "outputId": "95181927-1a26-4d9a-9f3e-2c8031d07bac"
   },
   "outputs": [
    {
     "name": "stderr",
     "output_type": "stream",
     "text": [
      "/usr/local/lib/python3.10/dist-packages/scipy/stats/_axis_nan_policy.py:531: UserWarning: kurtosistest only valid for n>=20 ... continuing anyway, n=10\n",
      "  res = hypotest_fun_out(*samples, **kwds)\n"
     ]
    },
    {
     "data": {
      "text/html": [
       "<table class=\"simpletable\">\n",
       "<caption>OLS Regression Results</caption>\n",
       "<tr>\n",
       "  <th>Dep. Variable:</th>          <td>clams</td>      <th>  R-squared:         </th> <td>   0.960</td>\n",
       "</tr>\n",
       "<tr>\n",
       "  <th>Model:</th>                   <td>OLS</td>       <th>  Adj. R-squared:    </th> <td>   0.955</td>\n",
       "</tr>\n",
       "<tr>\n",
       "  <th>Method:</th>             <td>Least Squares</td>  <th>  F-statistic:       </th> <td>   194.0</td>\n",
       "</tr>\n",
       "<tr>\n",
       "  <th>Date:</th>             <td>Thu, 12 Sep 2024</td> <th>  Prob (F-statistic):</th> <td>6.84e-07</td>\n",
       "</tr>\n",
       "<tr>\n",
       "  <th>Time:</th>                 <td>03:28:40</td>     <th>  Log-Likelihood:    </th> <td> -43.700</td>\n",
       "</tr>\n",
       "<tr>\n",
       "  <th>No. Observations:</th>      <td>    10</td>      <th>  AIC:               </th> <td>   91.40</td>\n",
       "</tr>\n",
       "<tr>\n",
       "  <th>Df Residuals:</th>          <td>     8</td>      <th>  BIC:               </th> <td>   92.01</td>\n",
       "</tr>\n",
       "<tr>\n",
       "  <th>Df Model:</th>              <td>     1</td>      <th>                     </th>     <td> </td>   \n",
       "</tr>\n",
       "<tr>\n",
       "  <th>Covariance Type:</th>      <td>nonrobust</td>    <th>                     </th>     <td> </td>   \n",
       "</tr>\n",
       "</table>\n",
       "<table class=\"simpletable\">\n",
       "<tr>\n",
       "    <td></td>       <th>coef</th>     <th>std err</th>      <th>t</th>      <th>P>|t|</th>  <th>[0.025</th>    <th>0.975]</th>  \n",
       "</tr>\n",
       "<tr>\n",
       "  <th>const</th> <td>  297.9799</td> <td>   14.149</td> <td>   21.061</td> <td> 0.000</td> <td>  265.353</td> <td>  330.607</td>\n",
       "</tr>\n",
       "<tr>\n",
       "  <th>crabs</th> <td>  -59.6827</td> <td>    4.285</td> <td>  -13.927</td> <td> 0.000</td> <td>  -69.565</td> <td>  -49.800</td>\n",
       "</tr>\n",
       "</table>\n",
       "<table class=\"simpletable\">\n",
       "<tr>\n",
       "  <th>Omnibus:</th>       <td> 2.924</td> <th>  Durbin-Watson:     </th> <td>   1.205</td>\n",
       "</tr>\n",
       "<tr>\n",
       "  <th>Prob(Omnibus):</th> <td> 0.232</td> <th>  Jarque-Bera (JB):  </th> <td>   0.935</td>\n",
       "</tr>\n",
       "<tr>\n",
       "  <th>Skew:</th>          <td>-0.739</td> <th>  Prob(JB):          </th> <td>   0.627</td>\n",
       "</tr>\n",
       "<tr>\n",
       "  <th>Kurtosis:</th>      <td> 3.241</td> <th>  Cond. No.          </th> <td>    7.41</td>\n",
       "</tr>\n",
       "</table><br/><br/>Notes:<br/>[1] Standard Errors assume that the covariance matrix of the errors is correctly specified."
      ],
      "text/latex": [
       "\\begin{center}\n",
       "\\begin{tabular}{lclc}\n",
       "\\toprule\n",
       "\\textbf{Dep. Variable:}    &      clams       & \\textbf{  R-squared:         } &     0.960   \\\\\n",
       "\\textbf{Model:}            &       OLS        & \\textbf{  Adj. R-squared:    } &     0.955   \\\\\n",
       "\\textbf{Method:}           &  Least Squares   & \\textbf{  F-statistic:       } &     194.0   \\\\\n",
       "\\textbf{Date:}             & Thu, 12 Sep 2024 & \\textbf{  Prob (F-statistic):} &  6.84e-07   \\\\\n",
       "\\textbf{Time:}             &     03:28:40     & \\textbf{  Log-Likelihood:    } &   -43.700   \\\\\n",
       "\\textbf{No. Observations:} &          10      & \\textbf{  AIC:               } &     91.40   \\\\\n",
       "\\textbf{Df Residuals:}     &           8      & \\textbf{  BIC:               } &     92.01   \\\\\n",
       "\\textbf{Df Model:}         &           1      & \\textbf{                     } &             \\\\\n",
       "\\textbf{Covariance Type:}  &    nonrobust     & \\textbf{                     } &             \\\\\n",
       "\\bottomrule\n",
       "\\end{tabular}\n",
       "\\begin{tabular}{lcccccc}\n",
       "               & \\textbf{coef} & \\textbf{std err} & \\textbf{t} & \\textbf{P$> |$t$|$} & \\textbf{[0.025} & \\textbf{0.975]}  \\\\\n",
       "\\midrule\n",
       "\\textbf{const} &     297.9799  &       14.149     &    21.061  &         0.000        &      265.353    &      330.607     \\\\\n",
       "\\textbf{crabs} &     -59.6827  &        4.285     &   -13.927  &         0.000        &      -69.565    &      -49.800     \\\\\n",
       "\\bottomrule\n",
       "\\end{tabular}\n",
       "\\begin{tabular}{lclc}\n",
       "\\textbf{Omnibus:}       &  2.924 & \\textbf{  Durbin-Watson:     } &    1.205  \\\\\n",
       "\\textbf{Prob(Omnibus):} &  0.232 & \\textbf{  Jarque-Bera (JB):  } &    0.935  \\\\\n",
       "\\textbf{Skew:}          & -0.739 & \\textbf{  Prob(JB):          } &    0.627  \\\\\n",
       "\\textbf{Kurtosis:}      &  3.241 & \\textbf{  Cond. No.          } &     7.41  \\\\\n",
       "\\bottomrule\n",
       "\\end{tabular}\n",
       "%\\caption{OLS Regression Results}\n",
       "\\end{center}\n",
       "\n",
       "Notes: \\newline\n",
       " [1] Standard Errors assume that the covariance matrix of the errors is correctly specified."
      ],
      "text/plain": [
       "<class 'statsmodels.iolib.summary.Summary'>\n",
       "\"\"\"\n",
       "                            OLS Regression Results                            \n",
       "==============================================================================\n",
       "Dep. Variable:                  clams   R-squared:                       0.960\n",
       "Model:                            OLS   Adj. R-squared:                  0.955\n",
       "Method:                 Least Squares   F-statistic:                     194.0\n",
       "Date:                Thu, 12 Sep 2024   Prob (F-statistic):           6.84e-07\n",
       "Time:                        03:28:40   Log-Likelihood:                -43.700\n",
       "No. Observations:                  10   AIC:                             91.40\n",
       "Df Residuals:                       8   BIC:                             92.01\n",
       "Df Model:                           1                                         \n",
       "Covariance Type:            nonrobust                                         \n",
       "==============================================================================\n",
       "                 coef    std err          t      P>|t|      [0.025      0.975]\n",
       "------------------------------------------------------------------------------\n",
       "const        297.9799     14.149     21.061      0.000     265.353     330.607\n",
       "crabs        -59.6827      4.285    -13.927      0.000     -69.565     -49.800\n",
       "==============================================================================\n",
       "Omnibus:                        2.924   Durbin-Watson:                   1.205\n",
       "Prob(Omnibus):                  0.232   Jarque-Bera (JB):                0.935\n",
       "Skew:                          -0.739   Prob(JB):                        0.627\n",
       "Kurtosis:                       3.241   Cond. No.                         7.41\n",
       "==============================================================================\n",
       "\n",
       "Notes:\n",
       "[1] Standard Errors assume that the covariance matrix of the errors is correctly specified.\n",
       "\"\"\""
      ]
     },
     "execution_count": 6,
     "metadata": {},
     "output_type": "execute_result"
    }
   ],
   "source": [
    "x = sm.add_constant(df[\"crabs\"])\n",
    "y = df[\"clams\"]\n",
    "model = sm.OLS(y,x)\n",
    "result = model.fit()\n",
    "result.summary()"
   ]
  },
  {
   "cell_type": "code",
   "execution_count": null,
   "metadata": {
    "id": "OGZcOO7EXDuJ"
   },
   "outputs": [],
   "source": []
  }
 ],
 "metadata": {
  "colab": {
   "provenance": []
  },
  "kernelspec": {
   "display_name": "Python 3 (ipykernel)",
   "language": "python",
   "name": "python3"
  },
  "language_info": {
   "codemirror_mode": {
    "name": "ipython",
    "version": 3
   },
   "file_extension": ".py",
   "mimetype": "text/x-python",
   "name": "python",
   "nbconvert_exporter": "python",
   "pygments_lexer": "ipython3",
   "version": "3.12.3"
  }
 },
 "nbformat": 4,
 "nbformat_minor": 1
}
